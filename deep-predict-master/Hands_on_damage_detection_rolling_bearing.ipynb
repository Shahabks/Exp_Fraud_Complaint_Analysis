{
 "cells": [
  {
   "cell_type": "markdown",
   "metadata": {},
   "source": [
    "# Hands-on damage detection for rolling bearings with Keras and Tensorflow"
   ]
  },
  {
   "cell_type": "markdown",
   "metadata": {},
   "source": [
    "## 1. Introduction \n",
    "This notebook shows a CNN in Keras for damage detection in rolling bearings and it is the hands-on counterpart of the blog post [Convolutional Neural Network for damage detection](blog_link). The original dataset is from the [Case Western Reserve University](http://csegroups.case.edu/bearingdatacenter/home). We provide a mirror on AWS S3 of this dataset (just a copy of the original files) as the orignal source is not friendly to mass downloading. If you are using the dataset, please refer the original source and not our repository.\n",
    "\n",
    "### 1.1 Installing Keras and other prerequisite\n",
    "This project is based on Keras with TensorFlow backend for the implementation of the CCN and on many libraries for signal processing. To install all the prerequisite, we use `virtualenv` and `pip`. Go to terminal in the project folder and execute the following commands:\n",
    "```bash\n",
    "python3.7 -m venv ./venv\n",
    "source ./venv/bin/activate\n",
    "pip3 install ipykernel\n",
    "ipython kernel install --user --name=deep-predict\n",
    "jupyter notebook```"
   ]
  },
  {
   "cell_type": "markdown",
   "metadata": {},
   "source": [
    "Now, in your Jupyter notebook, just go to the menu `Kernel` and select `Change Kernel`, you'll find the `deep_predict`. As next step, we install all the project's requirements:"
   ]
  },
  {
   "cell_type": "code",
   "execution_count": null,
   "metadata": {
    "scrolled": true
   },
   "outputs": [],
   "source": [
    "!pip3 install --upgrade -q -r './requirements.txt'"
   ]
  },
  {
   "cell_type": "markdown",
   "metadata": {},
   "source": [
    "So, now we are good to go! Let's start downloding the data."
   ]
  },
  {
   "cell_type": "markdown",
   "metadata": {
    "colab_type": "text",
    "id": "wJzazXJmXQ3z"
   },
   "source": [
    "## 2. Download the raw data\n",
    "\n",
    "We write an helper function to download the datasets and to create a dataset folder. The function `download_rawdata_files` accepts a parameter which can have the values \"S3\", or \"original\". The \"S3\" value is the default and recommended as we said before. The data set is a bundle of the matlab file whose name is just a number (such as \"118.mat\"), not very expressive. As we would like to label the file with more expressive name, which explicitly say the kind of experiment that the file contains, we need a mapping. Our naming ha the following format: `{state}{damage size}@{position of the sensor}_{load}.mat` where:\n",
    "* `state` can be \n",
    "     - `N` for normal state, not damaged\n",
    "     - `B` for ball damaged\n",
    "     - `IR` for inner raceway damage\n",
    "     - `OR` for outer raceway damage\n",
    "* `damage size` is the size of the tested damage:\n",
    "    - `007` for 0.07 inch damage\n",
    "    - `014` for 0.14 inch damage \n",
    "    - `021` for 0.21 inch damage\n",
    "    - `028` for 0.28 inch damage  \n",
    "* `position of the sensor` can be:\n",
    "    - `3`, `6`, `12` for outer raceway faults located at 3 o’clock (directly in the load zone), at 6 o’clock (orthogonal to the load zone), and at 12 o’clock, respectively\n",
    "* `load`can be:\n",
    "    - `0`, `1`, `2`, `3` for different motor load conditions, in powerhorse unit\n",
    "\n",
    "So, for example the file `IR021_2.mat` contains the data of the experiment conducted with `inner raceway` of damage size `0.21 inches` at `2 HP`. Better than `221.mat` isn'it? Then let's create a list that contains this mapping:"
   ]
  },
  {
   "cell_type": "code",
   "execution_count": 1,
   "metadata": {},
   "outputs": [],
   "source": [
    "mapping_code_to_mat = [('B007_0', '118'), ('B007_1', '119'), ('B007_2', '120'), ('B007_3', '121'), ('B014_0', '185'), ('B014_1', '186'), ('B014_2', '187'), ('B014_3', '188'), ('B021_0', '222'), ('B021_1', '223'), ('B021_2', '224'), ('B021_3', '225'), ('B028_0', '3005'), ('B028_1', '3006'), ('B028_2', '3007'), ('B028_3', '3008'), ('IR007_0', '105'), ('IR007_1', '106'), ('IR007_2', '107'), ('IR007_3', '108'), ('IR014_0', '169'), ('IR014_1', '170'), ('IR014_2', '171'), ('IR014_3', '172'), ('IR021_0', '209'), ('IR021_1', '210'), ('IR021_2', '211'), ('IR021_3', '212'), ('IR028_0', '3001'), ('IR028_1', '3002'), ('IR028_2', '3003'), ('IR028_3', '3004'), ('Normal_0', '97'), ('Normal_1', '98'), ('Normal_2', '99'), ('Normal_3', '100'), ('OR007@12_156', '156'), ('OR007@12_158', '158'), ('OR007@12_159', '159'), ('OR007@12_160', '160'), ('OR007@3_144', '144'), ('OR007@3_145', '145'), ('OR007@3_146', '146'), ('OR007@3_147', '147'), ('OR007@6_130', '130'), ('OR007@6_131', '131'), ('OR007@6_132', '132'), ('OR007@6_133', '133'), ('OR014@6_197', '197'), ('OR014@6_198', '198'), ('OR014@6_199', '199'), ('OR014@6_200', '200'), ('OR021@12_258', '258'), ('OR021@12_259', '259'), ('OR021@12_260', '260'), ('OR021@12_261', '261'), ('OR021@3_246', '246'), ('OR021@3_247', '247'), ('OR021@3_248', '248'), ('OR021@3_249', '249'), ('OR021@6_234', '234'), ('OR021@6_235', '235'), ('OR021@6_236', '236'), ('OR021@6_237', '237')]"
   ]
  },
  {
   "cell_type": "code",
   "execution_count": 2,
   "metadata": {},
   "outputs": [],
   "source": [
    "from os import path\n",
    "import errno\n",
    "import os\n",
    "import urllib.request\n",
    "                          \n",
    "# set the url for downloading the data from codecentric S3 bucket (recommended)\n",
    "url_s3 = \"https://s3.eu-central-1.amazonaws.com/predictron-datasets/\"\n",
    "                          \n",
    "# set the original url for downloading the data from csegroups (original source)\n",
    "url_original = \"http://csegroups.case.edu/sites/default/files/bearingdatacenter/files/Datafiles/\"               \n",
    "\n",
    "def try_make_directories():     \n",
    "    data_directories = [\"dataset\", \"npy_dataset\"]\n",
    "    for directory in data_directories:\n",
    "        try:\n",
    "            os.makedirs(f'./{directory}')\n",
    "        except OSError as e:\n",
    "            if e.errno != errno.EEXIST:\n",
    "                raise\n",
    "\n",
    "def download_rawdata_files(source_of_files=\"S3\"):\n",
    "\n",
    "\n",
    "    try_make_directories()\n",
    "\n",
    "    for map_code, map_mat in mapping_code_to_mat:\n",
    "        row_code = str(map_code).strip()\n",
    "        row_mat = str(map_mat).strip()\n",
    "        local_filename = f'./dataset/{row_code}.mat'\n",
    "\n",
    "        if source_of_files == \"S3\":\n",
    "            if row_code.endswith(row_mat):\n",
    "                remote_filename = f'{row_code}.mat'\n",
    "            else:\n",
    "                remote_filename = f'{row_code}_{row_mat}.mat'\n",
    "            url = url_s3\n",
    "        elif source_of_files == 'original':\n",
    "            remote_filename = f'{row_mat}.mat'\n",
    "            url = url_original\n",
    "        else:\n",
    "            print(\"No valid source of files specified. Exiting.\")\n",
    "            return\n",
    "\n",
    "        full_url = f'{url}{remote_filename}'\n",
    "        print(full_url)\n",
    "\n",
    "        if os.path.isfile(local_filename):\n",
    "            print(f'File {local_filename} already exists. Skipping.')\n",
    "            continue\n",
    "        print('Downloading...')\n",
    "        urllib.request.urlretrieve(full_url, local_filename)\n",
    "        print(f'Downloaded: {local_filename}')\n",
    "    return"
   ]
  },
  {
   "cell_type": "code",
   "execution_count": 3,
   "metadata": {
    "colab": {
     "base_uri": "https://localhost:8080/",
     "height": 3281
    },
    "colab_type": "code",
    "id": "HA-j5tujanN4",
    "outputId": "f9309a94-dc70-40b7-c2be-63dc958309b9"
   },
   "outputs": [],
   "source": [
    "%%capture \n",
    "download_rawdata_files()"
   ]
  },
  {
   "cell_type": "markdown",
   "metadata": {
    "colab_type": "text",
    "id": "jdVGPpFsjaQL"
   },
   "source": [
    "If it all looks good, then now we have all the raw data we need to continue to the next Notebook."
   ]
  },
  {
   "cell_type": "markdown",
   "metadata": {
    "colab": {},
    "colab_type": "code",
    "id": "Nzps23Rqjiju"
   },
   "source": [
    "### 2.1 How does the matlab file looks like?"
   ]
  },
  {
   "cell_type": "markdown",
   "metadata": {},
   "source": [
    "Let's have a look at one matlab file, importing it with `scipy`. "
   ]
  },
  {
   "cell_type": "code",
   "execution_count": 4,
   "metadata": {},
   "outputs": [
    {
     "data": {
      "text/plain": [
       "{'__header__': b'MATLAB 5.0 MAT-file, Platform: PCWIN, Created on: Mon Jan 31 15:28:20 2000',\n",
       " '__version__': '1.0',\n",
       " '__globals__': [],\n",
       " 'X097_DE_time': array([[ 0.05319692],\n",
       "        [ 0.08866154],\n",
       "        [ 0.09971815],\n",
       "        ...,\n",
       "        [-0.03463015],\n",
       "        [ 0.01668923],\n",
       "        [ 0.04693846]]),\n",
       " 'X097_FE_time': array([[0.14566727],\n",
       "        [0.09779636],\n",
       "        [0.05485636],\n",
       "        ...,\n",
       "        [0.14053091],\n",
       "        [0.09553636],\n",
       "        [0.09019455]]),\n",
       " 'X097RPM': array([[1796]], dtype=uint16)}"
      ]
     },
     "execution_count": 4,
     "metadata": {},
     "output_type": "execute_result"
    }
   ],
   "source": [
    "import scipy.io as sio\n",
    "sio.loadmat(f\"./dataset/Normal_0.mat\")"
   ]
  },
  {
   "cell_type": "markdown",
   "metadata": {},
   "source": [
    "It is python dictionary with keys with the format `X{file name}_{code}_time`, where\n",
    "* `file name` is the original file name in the dataset, like `097.mat`\n",
    "* `code` is the sensor position and can be:\n",
    "    - `DE` if the data comes from the sensor at the drive end of the motor\n",
    "    - `FE` if the data comes from the sensor at the fan end of the engine\n",
    "    - `B`  if the data comes from the sensor attached at the base of the test setup"
   ]
  },
  {
   "cell_type": "markdown",
   "metadata": {},
   "source": [
    "We will use only the data collected at the drive end, labelled with the code `DE`. So, we write a function that pick up the time signal from a file, for given code, making a regex on the dictionary keys, looking for the the code and not caring of the `X{filename}` prefix and `time` suffix. We use a function for this task and we also convert the unit to SI units."
   ]
  },
  {
   "cell_type": "code",
   "execution_count": 5,
   "metadata": {},
   "outputs": [],
   "source": [
    "def time_signal(file, code):\n",
    "    \"\"\"\n",
    "    load the time series in the file and convert units in SI\n",
    "    file= 'filename' from the ./dataset/ folder\n",
    "    code= ' DE' or 'FE', other code will give error\n",
    "    \"\"\"\n",
    "    import re\n",
    "    try:\n",
    "        import scipy.io as sio\n",
    "        data = sio.loadmat(f\"./dataset/{file}.mat\")\n",
    "        for key in data:\n",
    "            if re.findall(rf\"({code})\", key):\n",
    "                dict_code = key\n",
    "        unit_conv = 0.0254\n",
    "        x = data[dict_code] * unit_conv\n",
    "        return x\n",
    "    except:\n",
    "        print('File does not exist or code wrong. Code must be either \"DE or \"FE\" ')"
   ]
  },
  {
   "cell_type": "markdown",
   "metadata": {},
   "source": [
    "Now we can plot some signals with code= `DE`. The data is sampled at 12kHz, that is 12000 data points per second. Let's plot 1/10 of seconds: "
   ]
  },
  {
   "cell_type": "code",
   "execution_count": 6,
   "metadata": {},
   "outputs": [
    {
     "name": "stderr",
     "output_type": "stream",
     "text": [
      "/Users/giulio/Documents/projects/codecentric/pred_maintenance/dev/deep-predict/venv/lib/python3.7/site-packages/matplotlib/figure.py:445: UserWarning: Matplotlib is currently using module://ipykernel.pylab.backend_inline, which is a non-GUI backend, so cannot show the figure.\n",
      "  % get_backend())\n"
     ]
    },
    {
     "data": {
      "image/png": "[encoded data removed]",
      "text/plain": [
       "<Figure size 864x216 with 3 Axes>"
      ]
     },
     "metadata": {
      "needs_background": "light"
     },
     "output_type": "display_data"
    }
   ],
   "source": [
    "%matplotlib inline\n",
    "import matplotlib.pyplot as plt\n",
    "\n",
    "normal_sig = time_signal(file='Normal_0', code='DE')\n",
    "ir_sig = time_signal(file='IR007_0', code='DE') \n",
    "b_sig = time_signal(file='B007_0', code='DE') \n",
    "\n",
    "range_of_samples = range(0,1200)\n",
    "\n",
    "# plotting\n",
    "\n",
    "fig, (plt1, plt2, plt3) = plt.subplots(1, 3, sharey = True, figsize=(12,3), constrained_layout=True)\n",
    "plt1.set_xlabel(\"time $(s)$\")\n",
    "plt1.set_ylabel(\"acceleration $(m/s^2)$\")\n",
    "plt1.set_title('Normal state')\n",
    "plt1.plot(normal_sig[range_of_samples])\n",
    "plt2.set_xlabel(\"time $(s)$\")\n",
    "plt2.set_ylabel(\"acceleration $(m/s^2)$\")\n",
    "plt2.set_title('Inner Race fault (diameter 0.007in)')\n",
    "plt2.plot(ir_sig[range_of_samples])\n",
    "plt3.set_xlabel(\"time $(s)$\")\n",
    "plt3.set_ylabel(\"acceleration $(m/s^2)$\")\n",
    "plt3.set_title('Ball fault (diameter 0.007in)')\n",
    "plt3.plot(b_sig[range_of_samples])\n",
    "fig.suptitle('Acceleration data recorded at the drive end')\n",
    "fig.show()"
   ]
  },
  {
   "cell_type": "markdown",
   "metadata": {},
   "source": [
    "## 3. Architecture of the CNN\n",
    "\n",
    "As the picture in our [blogpost](blog_link) shows , we can distinguish four main conceptual phases.\n",
    "\n",
    "1. Data chunking\n",
    "2. Feature engineering\n",
    "3. Data shuffling\n",
    "4. Convolutional Neural Network"
   ]
  },
  {
   "cell_type": "markdown",
   "metadata": {},
   "source": [
    "### 3.1. Data chunking\n",
    "\n",
    "We'll divide the signal in chunks of size `chunk_size`, and take a subset `number_of_chunks` from all the available for training and testing the CNN. A chunk is simply a sequential subset of the time series data with a fixed length - the `chunk_size`. Every chunk is distinct - there are no overlapping samples in different chunks. \n",
    "This method is said _tumbling time windowing_, for more info you can see this [blog post](https://blog.codecentric.de/en/2018/10/window-functions-in-stream-analytics/). \n",
    "Each time series is an array, and they have slight difference in length. This means that if we fix a chunk size to divide the file, we need a function to split the data exaclty in `number_of_chunks` of `chunk_size` and get rid of the remaining part. We can write a function for that, `split_exact`, which takes the array to be splitted, the number of chunks and the array axis to be splitted. \n"
   ]
  },
  {
   "cell_type": "code",
   "execution_count": 7,
   "metadata": {},
   "outputs": [],
   "source": [
    "def split_exact(x, n_chunks=2, axis=1):\n",
    "    import numpy as np\n",
    "    l = np.shape(x)[axis]\n",
    "    x_split = x\n",
    "    if l > n_chunks > 1:\n",
    "        n = n_chunks\n",
    "        if axis == 0:\n",
    "            x_split = np.split(x[:-(l % n)], n, axis=axis)\n",
    "        elif axis == 1:\n",
    "            x_split = np.split(x[:, :-(l % n)], n, axis=axis)\n",
    "    return x_split"
   ]
  },
  {
   "cell_type": "markdown",
   "metadata": {},
   "source": [
    "Next, we perform some operation on the data. First of all we will consider only:\n",
    "\n",
    "* the normal data labelled as `N`\n",
    "* the inner raceway data labelled as `IR`\n",
    "* the ball damage data labelled as `B`\n",
    "\n",
    "that is, we skip the outer raceway data in this implementation.\n",
    "\n",
    "We join the data for every load, from `0...3` HP, normalizing it with respect to the standard deviation. This is because we want our CNN to classify the status independently from the load. To this aim, we write the function `load_raw_matlab_data` which returns three multidimensional arrays for `N, IR, B` data with dimension the maximum `number_of_chuncks` obtainable from the data, by `chunk_size`. "
   ]
  },
  {
   "cell_type": "code",
   "execution_count": 8,
   "metadata": {},
   "outputs": [],
   "source": [
    "import numpy as np\n",
    "\n",
    "def load_raw_matlab_data(chunk_size=128):\n",
    "    \"\"\"\n",
    "    Load the mat files and splits it in chunks of size chunk_size\n",
    "    returns:\n",
    "        array_normal, array_ir, array_b\n",
    "    \"\"\"\n",
    "    y_n: ndarray = np.array([])\n",
    "    # normal signal\n",
    "    for i in (0, 1, 2, 3):\n",
    "        x = time_signal(file='Normal_' + str(i), code='DE').flatten()\n",
    "        x = x / np.std(x)\n",
    "        y_n = np.append(y_n, x)\n",
    "    n_splits = len(y_n) // chunk_size\n",
    "    y_n = split_exact(y_n, n_chunks=n_splits, axis=0)\n",
    "\n",
    "    y_ir: ndarray = np.array([])\n",
    "    for i in ('007', '014', '021', '028'):\n",
    "        for j in (0, 1, 2, 3):\n",
    "            x = time_signal(file='IR' + i + '_' + str(j), code='DE').flatten()\n",
    "            x = x / np.std(x)\n",
    "            y_ir = np.append(y_ir, x)\n",
    "    n_splits = len(y_ir) // chunk_size\n",
    "    y_ir = split_exact(y_ir, n_chunks=n_splits, axis=0)\n",
    "\n",
    "    y_b: ndarray = np.array([])\n",
    "    for i in ('007', '014', '021', '028'):\n",
    "        for j in (0, 1, 2, 3):\n",
    "            x = time_signal(file='B' + i + '_' + str(j), code='DE').flatten()\n",
    "            x = x / np.std(x)\n",
    "            y_b = np.append(y_b, x)\n",
    "    n_splits = len(y_b) // chunk_size\n",
    "    y_b = split_exact(y_b, n_chunks=n_splits, axis=0)\n",
    "\n",
    "    return y_n, y_ir, y_b"
   ]
  },
  {
   "cell_type": "markdown",
   "metadata": {},
   "source": [
    "So let's initialize the data using the latter function."
   ]
  },
  {
   "cell_type": "code",
   "execution_count": 9,
   "metadata": {},
   "outputs": [],
   "source": [
    "chunk_size = 1200\n",
    "number_of_chunks=1400\n",
    "\n",
    "normal_data_clean, ir_data_clean, b_data_clean = load_raw_matlab_data(chunk_size=chunk_size)"
   ]
  },
  {
   "cell_type": "markdown",
   "metadata": {},
   "source": [
    "### 3.2. Feature engineering"
   ]
  },
  {
   "cell_type": "markdown",
   "metadata": {},
   "source": [
    "Each chunk of data is preprocessed. We extract a time/fequency image of each chunk with three different preprocessing techniques. For all the images we use a min max normalization, to have color mapping only in the range `[0,1]`."
   ]
  },
  {
   "cell_type": "code",
   "execution_count": 10,
   "metadata": {},
   "outputs": [],
   "source": [
    "def min_max_norm(ary):\n",
    "    ary = (ary - ary.min()) / np.abs(ary.max() - ary.min())\n",
    "    return ary"
   ]
  },
  {
   "cell_type": "markdown",
   "metadata": {},
   "source": [
    "### 3.2.1. Short Time Fourier Transform\n",
    "The function `generate_spectrogram_image(data_y_vector, image_shape)` takes a time series as input and the resolution of the image that it will generate and returns the Short time Fourier normalized in the range `[0,1]`."
   ]
  },
  {
   "cell_type": "code",
   "execution_count": 11,
   "metadata": {},
   "outputs": [],
   "source": [
    "from scipy import signal\n",
    "from skimage.transform import resize\n",
    "\n",
    "def generate_spectrogram_image(data_y_vector, image_shape):\n",
    "    \"\"\"\n",
    "    Calculate the spectrogram of an array data_y_vector and resize it in \n",
    "    the image_shape resolution\n",
    "    \"\"\"\n",
    "    fs = 12000.\n",
    "    data_y_vector_len = np.shape(data_y_vector)[0]\n",
    "\n",
    "    f, t, sxx = signal.spectrogram(\n",
    "        data_y_vector,\n",
    "        fs)\n",
    "\n",
    "    sxx = min_max_norm(sxx)\n",
    "    sxx = resize(sxx, image_shape, mode='constant', anti_aliasing=True)\n",
    "\n",
    "    return sxx"
   ]
  },
  {
   "cell_type": "markdown",
   "metadata": {},
   "source": [
    "Let's have a look at the Short Time Fourier Transform of one chunck of the data `N`, `IR` and `B`:"
   ]
  },
  {
   "cell_type": "code",
   "execution_count": 12,
   "metadata": {
    "scrolled": true
   },
   "outputs": [
    {
     "name": "stderr",
     "output_type": "stream",
     "text": [
      "/Users/giulio/Documents/projects/codecentric/pred_maintenance/dev/deep-predict/venv/lib/python3.7/site-packages/matplotlib/figure.py:445: UserWarning: Matplotlib is currently using module://ipykernel.pylab.backend_inline, which is a non-GUI backend, so cannot show the figure.\n",
      "  % get_backend())\n"
     ]
    },
    {
     "data": {
      "image/png": "[encoded data removed]",
      "text/plain": [
       "<Figure size 864x216 with 3 Axes>"
      ]
     },
     "metadata": {
      "needs_background": "light"
     },
     "output_type": "display_data"
    }
   ],
   "source": [
    "fig, (plt1, plt2, plt3) = plt.subplots(1, 3, sharey = True, figsize=(12,3), constrained_layout=True)\n",
    "plt1.set_xlabel(\"time\")\n",
    "plt1.set_ylabel(\"frequency\")\n",
    "plt1.set_title('Normal state')\n",
    "plt1.imshow(generate_spectrogram_image(normal_data_clean[42], (96,96)))\n",
    "plt2.set_xlabel(\"time\")\n",
    "plt2.set_ylabel(\"frequency\")\n",
    "plt2.set_title('Inner Race fault')\n",
    "plt2.imshow(generate_spectrogram_image(ir_data_clean[42], (96,96)))\n",
    "plt3.set_xlabel(\"time\")\n",
    "plt3.set_ylabel(\"frequency\")\n",
    "plt3.set_title('Ball fault')\n",
    "plt3.imshow(generate_spectrogram_image(b_data_clean[42], (96,96)))\n",
    "fig.suptitle('STFT')\n",
    "fig.show()"
   ]
  },
  {
   "cell_type": "markdown",
   "metadata": {},
   "source": [
    "In the `./colab/` folder of this repo, the other transforms are implemented, please refer to that folder!'"
   ]
  },
  {
   "cell_type": "markdown",
   "metadata": {},
   "source": [
    "### 3.3. Data shuffling"
   ]
  },
  {
   "cell_type": "markdown",
   "metadata": {},
   "source": [
    "Now it is time to create the whole bunch of images we are going to use to train the CNN. We are going to need some functions to help us in creating the folders in which the images will be stored, and to label correctly the file we generate, depending on the parameters we choose, such as `number_of_chunks`, `chunk_size`, `image_shape` in dpi. We implement a random shuffling between the chunks at this stage, to avoid that the CNN is trained on images that are representative of adjacent time windows."
   ]
  },
  {
   "cell_type": "code",
   "execution_count": 13,
   "metadata": {},
   "outputs": [],
   "source": [
    "from tqdm import tqdm\n",
    "from enum import Enum\n",
    "\n",
    "def create_image_by_label_database(\n",
    "        number_of_chunks,\n",
    "        chunk_size,\n",
    "        image_types,\n",
    "        image_shape,\n",
    "        noise_scale = 0.0,\n",
    "        shuffle_chunks_across_time=True,\n",
    "        overwrite_existing_file=False):\n",
    "\n",
    "    try_make_directories()\n",
    "\n",
    "    filename_for_images_by_labels = npy_dataset_filename(\n",
    "        number_of_chunks,\n",
    "        chunk_size,\n",
    "        image_types,\n",
    "        image_shape,\n",
    "        noise_scale,\n",
    "        shuffle_chunks_across_time\n",
    "    )\n",
    "\n",
    "    if overwrite_existing_file is False:\n",
    "        import os\n",
    "        if os.path.isfile(filename_for_images_by_labels):\n",
    "            print(\n",
    "                \"File already exists. Use 'overwrite_existing_file' if you wish to regenerate and overwrite it. Bye.\")\n",
    "            return\n",
    "\n",
    "    normal_data_clean, ir_data_clean, b_data_clean = load_raw_matlab_data(chunk_size=chunk_size)\n",
    "\n",
    "    len_n = np.shape(normal_data_clean)[0]\n",
    "    len_ir = np.shape(ir_data_clean)[0]\n",
    "    len_b = np.shape(b_data_clean)[0]\n",
    "    len_data = min(len_n, len_ir, len_b, number_of_chunks)\n",
    "\n",
    "    # add some noise maybe\n",
    "    normal_data = [x + y for x, y in\n",
    "                   zip(normal_data_clean, [np.random.normal(0, noise_scale, chunk_size) for i in range(len_n)])]\n",
    "    ir_data = [x + y for x, y in\n",
    "               zip(ir_data_clean, [np.random.normal(0, noise_scale, chunk_size) for i in range(len_ir)])]\n",
    "    b_data = [x + y for x, y in zip(b_data_clean, [np.random.normal(0, noise_scale, chunk_size) for i in range(len_b)])]\n",
    "\n",
    "    if shuffle_chunks_across_time:\n",
    "        # so the first N chunks will be taken at random time from the whole time window\n",
    "        np.random.shuffle(normal_data)\n",
    "        np.random.shuffle(ir_data)\n",
    "        np.random.shuffle(b_data)\n",
    "\n",
    "    images_by_labels = {'n': [], 'ir': [], 'b': []}\n",
    "\n",
    "    for i in tqdm(np.arange(len_data)):\n",
    "        n_images = generate_rgba_images_from_data(normal_data[i], image_shape, image_types)\n",
    "        ir_images = generate_rgba_images_from_data(ir_data[i], image_shape, image_types)\n",
    "        b_images = generate_rgba_images_from_data(b_data[i], image_shape, image_types)\n",
    "\n",
    "        images_by_labels['n'].extend(n_images)\n",
    "        images_by_labels['ir'].extend(ir_images)\n",
    "        images_by_labels['b'].extend(b_images)\n",
    "\n",
    "    print(f'Saving {filename_for_images_by_labels}')\n",
    "    np.save(f'{filename_for_images_by_labels}', images_by_labels)\n",
    "    \n",
    "def npy_dataset_filename(\n",
    "        number_of_chunks,\n",
    "        chunk_size,\n",
    "        image_types,\n",
    "        image_shape,\n",
    "        noise_scale,\n",
    "        chunks_are_shuffled_across_time):\n",
    "    filename_suffix = \\\n",
    "        f'__chunks{number_of_chunks}' \\\n",
    "        f'_size{chunk_size}' \\\n",
    "        f'_types{\"-\".join([str(t)[10:12] for t in image_types])}' + \\\n",
    "        (f'_noise{noise_scale}' if noise_scale > 0 else '') + \\\n",
    "        (f'_timeshuffled' if chunks_are_shuffled_across_time else '') + \\\n",
    "        f'_shape{image_shape[0]}-{image_shape[1]}'\n",
    "    filename = f'./npy_dataset/images_by_labels_for_cnn{filename_suffix}.npy'\n",
    "    return filename\n",
    "    \n",
    "def generate_rgba_images_from_data(\n",
    "        vector_y_data,\n",
    "        image_shape,\n",
    "        image_types):\n",
    "    images = []\n",
    "    if ImageType.SCALOGRAM in image_types:\n",
    "        images.append(generate_scalogram_image(vector_y_data, image_shape))\n",
    "    if ImageType.SPECTROGRAM in image_types:\n",
    "        images.append(generate_spectrogram_image(vector_y_data, image_shape))\n",
    "    if ImageType.QTRANSFORM in image_types:\n",
    "        images.append(generate_qtransform_image(vector_y_data, image_shape))\n",
    "\n",
    "    images_rgba = ary_to_rgba(images)\n",
    "\n",
    "    return images_rgba\n",
    "\n",
    "def ary_to_rgba(ary, nchannels=4):\n",
    "    from matplotlib import cm\n",
    "\n",
    "    ary_dim = (np.shape(ary))\n",
    "\n",
    "    im = np.empty(shape=(ary_dim[0], ary_dim[1], ary_dim[2], nchannels)).astype('uint8')\n",
    "    for i in np.arange(0, len(ary)):\n",
    "        im[i, :] = cm.ScalarMappable(cmap='viridis').to_rgba(10 * np.log(ary[i] + 0.001), bytes=True, norm=True)\n",
    "    return im\n",
    "\n",
    "class ImageType(Enum):\n",
    "    SCALOGRAM = 1\n",
    "    SPECTROGRAM = 2\n",
    "    QTRANSFORM = 3"
   ]
  },
  {
   "cell_type": "markdown",
   "metadata": {},
   "source": [
    "Let's define the parameters of the preprocessing:"
   ]
  },
  {
   "cell_type": "code",
   "execution_count": 14,
   "metadata": {},
   "outputs": [],
   "source": [
    "chunk_size = 1200\n",
    "number_of_chunks=1400\n",
    "image_types=[ImageType.SPECTROGRAM]\n",
    "image_shape = (96, 96)\n",
    "shuffle_chunks_across_time=True"
   ]
  },
  {
   "cell_type": "code",
   "execution_count": 15,
   "metadata": {},
   "outputs": [
    {
     "name": "stderr",
     "output_type": "stream",
     "text": [
      "100%|██████████| 1400/1400 [00:06<00:00, 205.07it/s]\n"
     ]
    },
    {
     "name": "stdout",
     "output_type": "stream",
     "text": [
      "Saving ./npy_dataset/images_by_labels_for_cnn__chunks1400_size1200_typesSP_timeshuffled_shape96-96.npy\n"
     ]
    }
   ],
   "source": [
    "create_image_by_label_database(\n",
    "    number_of_chunks=number_of_chunks, \n",
    "    chunk_size=chunk_size, \n",
    "    image_types=image_types, \n",
    "    image_shape=image_shape, \n",
    "    shuffle_chunks_across_time=shuffle_chunks_across_time,\n",
    "    overwrite_existing_file=True)"
   ]
  },
  {
   "cell_type": "markdown",
   "metadata": {},
   "source": [
    "### 3.4. Convolutional Neural Network"
   ]
  },
  {
   "cell_type": "markdown",
   "metadata": {},
   "source": [
    "The CNN architecture we use in this notebook is taken from the paper [Deep Learning Enabled Fault Diagnosis Using Time-Frequency Image Analysis of Rolling Element Bearings](https://www.hindawi.com/journals/sv/2017/5067651/). It is from the paper of Guo et al. and it is used in the paper as comparison. We decided to use this architecture due to the low number of parameters and the very good results in terms of precision, even under noisy conditions."
   ]
  },
  {
   "cell_type": "markdown",
   "metadata": {},
   "source": [
    "### 3.4.1 Train-test data prep\n",
    "\n",
    "Let's define a function that loads the images we generated. We repeat here the parameters for the file generation, so that you can also restart the notebook directly from here."
   ]
  },
  {
   "cell_type": "code",
   "execution_count": 16,
   "metadata": {},
   "outputs": [],
   "source": [
    "chunk_size = 1200\n",
    "number_of_chunks=1400\n",
    "image_types=[ImageType.SPECTROGRAM]\n",
    "image_shape = (96, 96)\n",
    "shuffle_chunks_across_time=True"
   ]
  },
  {
   "cell_type": "code",
   "execution_count": 17,
   "metadata": {},
   "outputs": [],
   "source": [
    "def load_images_by_labels_by_params(\n",
    "        number_of_chunks,\n",
    "        chunk_size,\n",
    "        image_types ,\n",
    "        image_shape,\n",
    "        noise_scale = 0.0,\n",
    "        chunks_are_shuffled_across_time=True):\n",
    "    filename = npy_dataset_filename(\n",
    "        number_of_chunks,\n",
    "        chunk_size,\n",
    "        image_types,\n",
    "        image_shape,\n",
    "        noise_scale,\n",
    "        chunks_are_shuffled_across_time)\n",
    "\n",
    "    loaded = np.load(filename)\n",
    "    print(f\"Successfully loaded file {filename}\")\n",
    "    return loaded.item()  # item() gets the actual dictionary from the loaded object"
   ]
  },
  {
   "cell_type": "markdown",
   "metadata": {},
   "source": [
    "With the aid of the previous function we load the images."
   ]
  },
  {
   "cell_type": "code",
   "execution_count": 18,
   "metadata": {},
   "outputs": [
    {
     "name": "stdout",
     "output_type": "stream",
     "text": [
      "Successfully loaded file ./npy_dataset/images_by_labels_for_cnn__chunks1400_size1200_typesSP_timeshuffled_shape96-96.npy\n"
     ]
    }
   ],
   "source": [
    "images_by_labels_for_cnn = load_images_by_labels_by_params(\n",
    "    chunk_size=chunk_size, \n",
    "    number_of_chunks=number_of_chunks,     \n",
    "    image_types=image_types, \n",
    "    image_shape=image_shape,\n",
    "    chunks_are_shuffled_across_time=shuffle_chunks_across_time)"
   ]
  },
  {
   "cell_type": "markdown",
   "metadata": {},
   "source": [
    "Now, to transform the data to a form suitable for feeding to the CNN, we:\n",
    "- separate the images and their labels into two arrays, correlated by their indexes\n",
    "- have the labels one-hot encoded (i.e. label \"N\" becomes (0,0,1))\n",
    "\n",
    "Additionally, to get a good distribution of data types accross the training and test data, we interleave the three types of data, that is we get a single array, containing all the images, where sequential images are always having a different data type (N, IR, or B) in the form [ ..., \"N\", \"IR\", \"B\", \"N\", \"IR\", \"B\",  ...]. This is implemented in the function `separate_images_from_labels`:"
   ]
  },
  {
   "cell_type": "code",
   "execution_count": 19,
   "metadata": {},
   "outputs": [],
   "source": [
    "def separate_images_from_labels(images_by_labels, interleave: bool):\n",
    "    all_labels = list(images_by_labels.keys())\n",
    "    NB_CLASSES = len(all_labels)\n",
    "    all_labels_onehot = np.identity(NB_CLASSES).astype('uint8')\n",
    "    label_to_onehot_mapper = {all_labels[i]: all_labels_onehot[i] for i in np.arange(NB_CLASSES)}\n",
    "\n",
    "    all_images_for_cnn = []\n",
    "    all_labels_for_cnn_onehot = []\n",
    "\n",
    "    for key in all_labels:\n",
    "        images = images_by_labels[key]\n",
    "        labels_onehot = np.full(shape=(len(images), NB_CLASSES), fill_value=label_to_onehot_mapper[key])\n",
    "\n",
    "        all_images_for_cnn.append(images)\n",
    "        all_labels_for_cnn_onehot.append(labels_onehot)\n",
    "\n",
    "    if interleave:\n",
    "        all_images_for_cnn = lists_interleave(all_images_for_cnn)\n",
    "        all_labels_for_cnn_onehot = lists_interleave(all_labels_for_cnn_onehot)\n",
    "    else:  # flatten the lists\n",
    "        all_images_for_cnn = [image for sublist in all_images_for_cnn for image in sublist]\n",
    "        all_labels_for_cnn_onehot = [label for sublist in all_labels_for_cnn_onehot for label in sublist]\n",
    "\n",
    "    return np.array(all_images_for_cnn), np.array(all_labels_for_cnn_onehot)\n",
    "                               \n",
    "def lists_interleave(lists):\n",
    "    return [val for tup in zip(*lists) for val in tup]"
   ]
  },
  {
   "cell_type": "markdown",
   "metadata": {},
   "source": [
    "The last step before training is to separate the images into training set and testing set"
   ]
  },
  {
   "cell_type": "code",
   "execution_count": 20,
   "metadata": {},
   "outputs": [],
   "source": [
    "from sklearn.model_selection import train_test_split\n",
    "\n",
    "images_for_cnn, labels_for_cnn_onehot = separate_images_from_labels(images_by_labels_for_cnn, interleave=True)\n",
    "\n",
    "images_train, images_test, labels_train_onehot, labels_test_onehot = \\\n",
    "    train_test_split(\n",
    "        images_for_cnn, \n",
    "        labels_for_cnn_onehot, \n",
    "        test_size=0.33, \n",
    "        random_state=42)"
   ]
  },
  {
   "cell_type": "markdown",
   "metadata": {},
   "source": [
    "### 3.4.2 CNN model with Keras"
   ]
  },
  {
   "cell_type": "markdown",
   "metadata": {},
   "source": [
    "The problem we want to solve is a supervised classification problem, with three classes. We use Convolutional Neural Networks implemented as Sequential Keras model. Our installation of Keras exploits TensorFlow as backend for the tensor arithmetics. \n",
    "\n",
    "The images that we have previously generated form a tuple `(number of images, x dpi, y dpi, number of channels)`. We use the **categorical cross-entropy** loss function and **ADAM** optimizer and Leaky RELU activation function. The learning rate has been found by using cyclical learning rate algorithm of Smith. An implementation of the algorithm by Keras callback is in the `./colab` folder."
   ]
  },
  {
   "cell_type": "code",
   "execution_count": 21,
   "metadata": {},
   "outputs": [
    {
     "name": "stderr",
     "output_type": "stream",
     "text": [
      "Using TensorFlow backend.\n"
     ]
    },
    {
     "name": "stdout",
     "output_type": "stream",
     "text": [
      "WARNING:tensorflow:From /Users/giulio/Documents/projects/codecentric/pred_maintenance/dev/deep-predict/venv/lib/python3.7/site-packages/tensorflow/python/framework/op_def_library.py:263: colocate_with (from tensorflow.python.framework.ops) is deprecated and will be removed in a future version.\n",
      "Instructions for updating:\n",
      "Colocations handled automatically by placer.\n"
     ]
    }
   ],
   "source": [
    "from keras import optimizers\n",
    "\n",
    "## input data parameters\n",
    "IMAGES_SHAPE = (96, 96, 4)\n",
    "PADDING = 'same'\n",
    "KERNEL_SIZE = (5, 5)\n",
    "KERNEL_INITIALIZER = 'glorot_normal'\n",
    "# parameters for deep layers\n",
    "NUMBER_OF_CLASSES = 3  # N, IR and B\n",
    "DROPOUT = 0.5\n",
    "LEAK_ALPHA = 0.1\n",
    "MAX_POOLING_POOL_SIZE = (2, 2)\n",
    "ACTIVATION_LAYER_FUNCTION = 'softmax'\n",
    "# loss and optimizer\n",
    "LOSS_FUNCTION = 'categorical_crossentropy'\n",
    "LEARNING_RATE = 0.001\n",
    "OPTIMIZER = optimizers.Adam(LEARNING_RATE, epsilon=10e-6)"
   ]
  },
  {
   "cell_type": "code",
   "execution_count": 22,
   "metadata": {},
   "outputs": [
    {
     "name": "stdout",
     "output_type": "stream",
     "text": [
      "WARNING:tensorflow:From /Users/giulio/Documents/projects/codecentric/pred_maintenance/dev/deep-predict/venv/lib/python3.7/site-packages/keras/backend/tensorflow_backend.py:3445: calling dropout (from tensorflow.python.ops.nn_ops) with keep_prob is deprecated and will be removed in a future version.\n",
      "Instructions for updating:\n",
      "Please use `rate` instead of `keep_prob`. Rate should be set to `rate = 1 - keep_prob`.\n",
      "_________________________________________________________________\n",
      "Layer (type)                 Output Shape              Param #   \n",
      "=================================================================\n",
      "conv2d_1 (Conv2D)            (None, 96, 96, 5)         505       \n",
      "_________________________________________________________________\n",
      "leaky_re_lu_1 (LeakyReLU)    (None, 96, 96, 5)         0         \n",
      "_________________________________________________________________\n",
      "conv2d_2 (Conv2D)            (None, 96, 96, 10)        1260      \n",
      "_________________________________________________________________\n",
      "leaky_re_lu_2 (LeakyReLU)    (None, 96, 96, 10)        0         \n",
      "_________________________________________________________________\n",
      "max_pooling2d_1 (MaxPooling2 (None, 48, 48, 10)        0         \n",
      "_________________________________________________________________\n",
      "conv2d_3 (Conv2D)            (None, 48, 48, 10)        2510      \n",
      "_________________________________________________________________\n",
      "leaky_re_lu_3 (LeakyReLU)    (None, 48, 48, 10)        0         \n",
      "_________________________________________________________________\n",
      "max_pooling2d_2 (MaxPooling2 (None, 24, 24, 10)        0         \n",
      "_________________________________________________________________\n",
      "flatten_1 (Flatten)          (None, 5760)              0         \n",
      "_________________________________________________________________\n",
      "dense_1 (Dense)              (None, 10)                57610     \n",
      "_________________________________________________________________\n",
      "leaky_re_lu_4 (LeakyReLU)    (None, 10)                0         \n",
      "_________________________________________________________________\n",
      "dense_2 (Dense)              (None, 5)                 55        \n",
      "_________________________________________________________________\n",
      "leaky_re_lu_5 (LeakyReLU)    (None, 5)                 0         \n",
      "_________________________________________________________________\n",
      "dropout_1 (Dropout)          (None, 5)                 0         \n",
      "_________________________________________________________________\n",
      "dense_3 (Dense)              (None, 3)                 18        \n",
      "_________________________________________________________________\n",
      "activation_1 (Activation)    (None, 3)                 0         \n",
      "=================================================================\n",
      "Total params: 61,958\n",
      "Trainable params: 61,958\n",
      "Non-trainable params: 0\n",
      "_________________________________________________________________\n"
     ]
    }
   ],
   "source": [
    "import keras\n",
    "from keras.models import Sequential\n",
    "from keras.layers.core import Dense, Dropout, Activation, Flatten\n",
    "from keras.layers.convolutional import Conv2D, MaxPooling2D\n",
    "from keras.layers import LeakyReLU\n",
    "from keras import metrics\n",
    "\n",
    "\n",
    "# CNN architecture from Guo et al.\n",
    "model = Sequential()\n",
    "model.add(Conv2D(5, KERNEL_SIZE,                  \n",
    "                 input_shape=IMAGES_SHAPE,\n",
    "                 data_format='channels_last',\n",
    "                 kernel_initializer=KERNEL_INITIALIZER,                 \n",
    "                 padding=PADDING))\n",
    "model.add(LeakyReLU(LEAK_ALPHA))\n",
    "model.add(Conv2D(10, KERNEL_SIZE, \n",
    "                 kernel_initializer=KERNEL_INITIALIZER,\n",
    "                 padding=PADDING))\n",
    "model.add(LeakyReLU(LEAK_ALPHA))\n",
    "model.add(MaxPooling2D(pool_size=MAX_POOLING_POOL_SIZE))\n",
    "model.add(Conv2D(10, KERNEL_SIZE, \n",
    "                 kernel_initializer=KERNEL_INITIALIZER,\n",
    "                 padding=PADDING))\n",
    "model.add(LeakyReLU(LEAK_ALPHA))\n",
    "model.add(MaxPooling2D(pool_size=MAX_POOLING_POOL_SIZE))\n",
    "model.add(Flatten())\n",
    "model.add(Dense(10))\n",
    "model.add(LeakyReLU(LEAK_ALPHA))\n",
    "model.add(Dense(5))\n",
    "model.add(LeakyReLU(LEAK_ALPHA))\n",
    "model.add(Dropout(DROPOUT))\n",
    "model.add(Dense(NUMBER_OF_CLASSES))\n",
    "model.add(Activation(ACTIVATION_LAYER_FUNCTION))\n",
    "  \n",
    "model.compile(loss=LOSS_FUNCTION, \n",
    "              optimizer=OPTIMIZER,\n",
    "              metrics=[metrics.categorical_accuracy])  \n",
    "model.summary()"
   ]
  },
  {
   "cell_type": "markdown",
   "metadata": {},
   "source": [
    "### 3.4.3 Training the CNN\n",
    "\n",
    "We train the CNN with a validation split of 1/4 of the image batch size and over 30 epochs. The CNN will be then tested on the hold-out data. "
   ]
  },
  {
   "cell_type": "code",
   "execution_count": 23,
   "metadata": {},
   "outputs": [
    {
     "name": "stdout",
     "output_type": "stream",
     "text": [
      "WARNING:tensorflow:From /Users/giulio/Documents/projects/codecentric/pred_maintenance/dev/deep-predict/venv/lib/python3.7/site-packages/tensorflow/python/ops/math_ops.py:3066: to_int32 (from tensorflow.python.ops.math_ops) is deprecated and will be removed in a future version.\n",
      "Instructions for updating:\n",
      "Use tf.cast instead.\n",
      "Train on 2110 samples, validate on 704 samples\n",
      "Epoch 1/5\n",
      "2110/2110 [==============================] - 21s 10ms/step - loss: 1.1988 - categorical_accuracy: 0.6427 - val_loss: 0.3023 - val_categorical_accuracy: 0.9247\n",
      "Epoch 2/5\n",
      "2110/2110 [==============================] - 21s 10ms/step - loss: 0.4460 - categorical_accuracy: 0.7848 - val_loss: 0.1679 - val_categorical_accuracy: 0.9631\n",
      "Epoch 3/5\n",
      "2110/2110 [==============================] - 21s 10ms/step - loss: 0.3471 - categorical_accuracy: 0.8047 - val_loss: 0.0814 - val_categorical_accuracy: 0.9986\n",
      "Epoch 4/5\n",
      "2110/2110 [==============================] - 21s 10ms/step - loss: 0.2793 - categorical_accuracy: 0.8384 - val_loss: 0.0457 - val_categorical_accuracy: 1.0000\n",
      "Epoch 5/5\n",
      "2110/2110 [==============================] - 21s 10ms/step - loss: 0.2591 - categorical_accuracy: 0.8389 - val_loss: 0.0178 - val_categorical_accuracy: 1.0000\n"
     ]
    }
   ],
   "source": [
    "BATCH_SIZE = 64\n",
    "NUMBER_OF_EPOCHS = 5\n",
    "VALIDATION_SPLIT = 0.25\n",
    "\n",
    "history = model.fit(\n",
    "    images_train, labels_train_onehot,\n",
    "    batch_size=BATCH_SIZE,\n",
    "    epochs=NUMBER_OF_EPOCHS, \n",
    "    validation_split=VALIDATION_SPLIT, \n",
    "    verbose=1)"
   ]
  },
  {
   "cell_type": "markdown",
   "metadata": {},
   "source": [
    "### 3.4.4 Test the CNN\n",
    "Once the model has been fitted, we assess its precision through a classical one vs many confusion matrix."
   ]
  },
  {
   "cell_type": "code",
   "execution_count": 24,
   "metadata": {},
   "outputs": [
    {
     "name": "stdout",
     "output_type": "stream",
     "text": [
      "1386/1386 [==============================] - 6s 4ms/step\n"
     ]
    }
   ],
   "source": [
    "labels_predicted = history.model.predict_classes(images_test, verbose=1)"
   ]
  },
  {
   "cell_type": "code",
   "execution_count": 25,
   "metadata": {},
   "outputs": [
    {
     "name": "stdout",
     "output_type": "stream",
     "text": [
      "              precision    recall  f1-score   support\n",
      "\n",
      "           0       1.00      1.00      1.00       497\n",
      "           1       1.00      1.00      1.00       448\n",
      "           2       1.00      1.00      1.00       441\n",
      "\n",
      "   micro avg       1.00      1.00      1.00      1386\n",
      "   macro avg       1.00      1.00      1.00      1386\n",
      "weighted avg       1.00      1.00      1.00      1386\n",
      "\n"
     ]
    }
   ],
   "source": [
    "# for the confusion matrix we need a factorized labels \n",
    "# [1,0,0] -> 0 (\"N\")\n",
    "# [0,1,0] -> 1 (\"IR\")\n",
    "# [0,0,1] -> 2 (\"B\")\n",
    "labels_test_factorized = [(1*label[0]+2*label[1]+3*label[2])-1 for label in labels_test_onehot]\n",
    "\n",
    "from sklearn.metrics import classification_report\n",
    "print(classification_report(labels_test_factorized, labels_predicted))"
   ]
  },
  {
   "cell_type": "markdown",
   "metadata": {},
   "source": [
    "## 4. ROC analysis\n",
    "The ROC curves for each class give a complete picture of the classification performance of the CNN. It is convenient to write a function that takes this task."
   ]
  },
  {
   "cell_type": "code",
   "execution_count": 26,
   "metadata": {},
   "outputs": [],
   "source": [
    "def ROC(model, X_test, y_test, n_class):\n",
    "    import seaborn as sns\n",
    "    from sklearn.metrics import roc_curve, roc_auc_score, auc\n",
    "    from sklearn.metrics import confusion_matrix, classification_report\n",
    "    from sklearn.preprocessing import label_binarize\n",
    "    import matplotlib.pyplot as plt\n",
    "    \n",
    "    \n",
    "    sns.set_style(\"dark\",{\"axes.facecolor\": \".97\"})\n",
    "    # Predict the labels of the test set: y_pred\n",
    "    y_pred = model.predict_classes(X_test)\n",
    "\n",
    "    # Compute predicted probabilities: y_pred_prob\n",
    "    y_pred_prob = model.predict_proba(X_test)\n",
    "    y_test_binary = label_binarize(y_test, classes=range(0, n_class))\n",
    "\n",
    "    y_test_normal = y_test_binary[:, 0]\n",
    "    y_prob_normal = y_pred_prob[:, 0]\n",
    "\n",
    "    y_test_inner_race = y_test_binary[:, 1]\n",
    "    y_prob_inner_race = y_pred_prob[:, 1]\n",
    "\n",
    "    y_test_ball = y_test_binary[:, 2]\n",
    "    y_prob_ball = y_pred_prob[:, 2]\n",
    "    \n",
    "    lw = 1.5\n",
    "    \n",
    "    # Compute and print the confusion matrix and classification report\n",
    "    confusion_matrix(y_test, y_pred)\n",
    "\n",
    "    from itertools import cycle\n",
    "    # Compute ROC curve and ROC area for each class\n",
    " \n",
    "\n",
    "    fpr = dict()\n",
    "    tpr = dict()\n",
    "    thresholds = dict()\n",
    "    roc_auc = dict()\n",
    "\n",
    "    fpr[0], tpr[0], thresholds[0] = roc_curve(y_test_normal, y_prob_normal)\n",
    "    fpr[1], tpr[1], thresholds[1] = roc_curve(y_test_inner_race, y_prob_inner_race)\n",
    "    fpr[2], tpr[2], thresholds[2] = roc_curve(y_test_ball, y_prob_ball)\n",
    "\n",
    "    for i in range(3):\n",
    "        roc_auc[i] = auc(fpr[i], tpr[i])\n",
    "\n",
    "    # Plot all ROC curves\n",
    "    plt.figure(figsize=(4, 4), dpi=150)\n",
    "\n",
    "    colors = cycle(['black','blue', 'red'])\n",
    "    for i, color in zip(range(3), colors):\n",
    "        plot_label=['N','IR','B']\n",
    "        plt.plot(fpr[i], tpr[i], color=color, lw=lw,\n",
    "                 label='ROC curve of class {0} (area = {1:0.2f})'\n",
    "                       ''.format(plot_label[i], roc_auc[i]))\n",
    "\n",
    "    plt.plot([0, 1], [0, 1], 'k--', lw=.7)\n",
    "    plt.xlim([0.0, 1.0])\n",
    "    plt.ylim([0.0, 1.05])\n",
    "    plt.xlabel('False Positive Rate')\n",
    "    plt.ylabel('True Positive Rate')\n",
    "    plt.legend(loc=\"lower right\", prop={'size': 8})\n",
    "    plt.show()\n",
    "\n"
   ]
  },
  {
   "cell_type": "code",
   "execution_count": 27,
   "metadata": {},
   "outputs": [
    {
     "data": {
      "image/png": "[encoded data removed]",
      "text/plain": [
       "<Figure size 600x600 with 1 Axes>"
      ]
     },
     "metadata": {},
     "output_type": "display_data"
    }
   ],
   "source": [
    "ROC(history.model, images_test, labels_test_factorized, 3)"
   ]
  },
  {
   "cell_type": "code",
   "execution_count": null,
   "metadata": {},
   "outputs": [],
   "source": []
  }
 ],
 "metadata": {
  "accelerator": "GPU",
  "colab": {
   "collapsed_sections": [],
   "name": "deeppredict_0_download_raw_data.ipynb",
   "provenance": [],
   "version": "0.3.2"
  },
  "kernelspec": {
   "display_name": "deep-predict",
   "language": "python",
   "name": "deep-predict"
  },
  "language_info": {
   "codemirror_mode": {
    "name": "ipython",
    "version": 3
   },
   "file_extension": ".py",
   "mimetype": "text/x-python",
   "name": "python",
   "nbconvert_exporter": "python",
   "pygments_lexer": "ipython3",
   "version": "3.7.0"
  }
 },
 "nbformat": 4,
 "nbformat_minor": 2
}
