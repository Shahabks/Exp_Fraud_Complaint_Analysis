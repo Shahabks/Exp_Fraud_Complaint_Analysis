{
  "nbformat": 4,
  "nbformat_minor": 0,
  "metadata": {
    "colab": {
      "name": "deeppredict_0_download_raw_data.ipynb",
      "version": "0.3.2",
      "provenance": [],
      "collapsed_sections": []
    },
    "kernelspec": {
      "name": "python3",
      "display_name": "Python 3"
    },
    "accelerator": "GPU"
  },
  "cells": [
    {
      "metadata": {
        "id": "Fg34O3U4khf_",
        "colab_type": "text"
      },
      "cell_type": "markdown",
      "source": [
        "# Getting the data"
      ]
    },
    {
      "metadata": {
        "id": "sFfbc57EUoXR",
        "colab_type": "text"
      },
      "cell_type": "markdown",
      "source": [
        "For this project we are using Python, and Jupyter Notebooks hosted on Google Colab. Any Jupyter engine will can be used, but it will require adjustmets to this initial setup to be able to access the raw data and the helper tools. \n",
        "\n",
        "To keep the notebook clean, all the implementation details are hidden in a set of helper functions in the file `deeppredict_tools.py`"
      ]
    },
    {
      "metadata": {
        "id": "_pqVVzZCVsmf",
        "colab_type": "text"
      },
      "cell_type": "markdown",
      "source": [
        "### Prerequisites for running this Notebook on Google Colab \n",
        "\n",
        "We need to mount a Google Drive folder called `deeppredict`, which has the same structure and contents as the repository at https://github.com/dimitardi/deep-predict. \n",
        "\n",
        "And the matlab raw data files in the subfolder `DEEPPREDICT_HOME/dataset`"
      ]
    },
    {
      "metadata": {
        "id": "O0L8nInIam5E",
        "colab_type": "code",
        "outputId": "a62bfb25-7069-4a41-fd4d-58420a7caa6f",
        "colab": {
          "base_uri": "https://localhost:8080/",
          "height": 34
        }
      },
      "cell_type": "code",
      "source": [
        "from google.colab import drive\n",
        "drive.mount('/content/gdrive')\n",
        "\n",
        "DEEPPREDICT_HOME = '/content/gdrive/My Drive/deeppredict'\n",
        "\n",
        "# add the home folder to the python path to be able to import and use the included code\n",
        "import sys\n",
        "sys.path.append(DEEPPREDICT_HOME)"
      ],
      "execution_count": 5,
      "outputs": [
        {
          "output_type": "stream",
          "text": [
            "Drive already mounted at /content/gdrive; to attempt to forcibly remount, call drive.mount(\"/content/gdrive\", force_remount=True).\n"
          ],
          "name": "stdout"
        }
      ]
    },
    {
      "metadata": {
        "id": "IVl38AjsJe6c",
        "colab_type": "code",
        "outputId": "13caa659-6dde-4395-a6d8-8ece28344d0b",
        "colab": {
          "base_uri": "https://localhost:8080/",
          "height": 34
        }
      },
      "cell_type": "code",
      "source": [
        "!pip install --upgrade -q -r '/content/gdrive/My Drive/deeppredict/requirements.txt'\n",
        "\n",
        "import skimage as sk\n",
        "# explicitly check the sci-kit image version\n",
        "# currently colab has the 0.13 by default, which is too old. It should be at least >= 0.14\n",
        "sk.__version__"
      ],
      "execution_count": 2,
      "outputs": [
        {
          "output_type": "execute_result",
          "data": {
            "text/plain": [
              "'0.14.2'"
            ]
          },
          "metadata": {
            "tags": []
          },
          "execution_count": 2
        }
      ]
    },
    {
      "metadata": {
        "id": "wJzazXJmXQ3z",
        "colab_type": "text"
      },
      "cell_type": "markdown",
      "source": [
        "### Download the raw data\n",
        "\n",
        "This function accepts a parameter which can have the values \"S3\", or \"original\".\n",
        "\n",
        "The \"S3\" value is the default and recommended - this is a copy of the files from the original source, as the orignal source is not friendly to mass downloading."
      ]
    },
    {
      "metadata": {
        "id": "HA-j5tujanN4",
        "colab_type": "code",
        "outputId": "f9309a94-dc70-40b7-c2be-63dc958309b9",
        "colab": {
          "base_uri": "https://localhost:8080/",
          "height": 3281
        }
      },
      "cell_type": "code",
      "source": [
        "from deeppredict_download_rawdata import download_rawdata_files\n",
        "\n",
        "download_rawdata_files()"
      ],
      "execution_count": 4,
      "outputs": [
        {
          "output_type": "stream",
          "text": [
            "https://s3.eu-central-1.amazonaws.com/predictron-datasets/B007_0_118.mat\n",
            "Downloading...\n",
            "Downloaded: /content/gdrive/My Drive/deeppredict/dataset/B007_0.mat\n",
            "https://s3.eu-central-1.amazonaws.com/predictron-datasets/B007_1_119.mat\n",
            "Downloading...\n",
            "Downloaded: /content/gdrive/My Drive/deeppredict/dataset/B007_1.mat\n",
            "https://s3.eu-central-1.amazonaws.com/predictron-datasets/B007_2_120.mat\n",
            "Downloading...\n",
            "Downloaded: /content/gdrive/My Drive/deeppredict/dataset/B007_2.mat\n",
            "https://s3.eu-central-1.amazonaws.com/predictron-datasets/B007_3_121.mat\n",
            "Downloading...\n",
            "Downloaded: /content/gdrive/My Drive/deeppredict/dataset/B007_3.mat\n",
            "https://s3.eu-central-1.amazonaws.com/predictron-datasets/B014_0_185.mat\n",
            "Downloading...\n",
            "Downloaded: /content/gdrive/My Drive/deeppredict/dataset/B014_0.mat\n",
            "https://s3.eu-central-1.amazonaws.com/predictron-datasets/B014_1_186.mat\n",
            "Downloading...\n",
            "Downloaded: /content/gdrive/My Drive/deeppredict/dataset/B014_1.mat\n",
            "https://s3.eu-central-1.amazonaws.com/predictron-datasets/B014_2_187.mat\n",
            "Downloading...\n",
            "Downloaded: /content/gdrive/My Drive/deeppredict/dataset/B014_2.mat\n",
            "https://s3.eu-central-1.amazonaws.com/predictron-datasets/B014_3_188.mat\n",
            "Downloading...\n",
            "Downloaded: /content/gdrive/My Drive/deeppredict/dataset/B014_3.mat\n",
            "https://s3.eu-central-1.amazonaws.com/predictron-datasets/B021_0_222.mat\n",
            "Downloading...\n",
            "Downloaded: /content/gdrive/My Drive/deeppredict/dataset/B021_0.mat\n",
            "https://s3.eu-central-1.amazonaws.com/predictron-datasets/B021_1_223.mat\n",
            "Downloading...\n",
            "Downloaded: /content/gdrive/My Drive/deeppredict/dataset/B021_1.mat\n",
            "https://s3.eu-central-1.amazonaws.com/predictron-datasets/B021_2_224.mat\n",
            "Downloading...\n",
            "Downloaded: /content/gdrive/My Drive/deeppredict/dataset/B021_2.mat\n",
            "https://s3.eu-central-1.amazonaws.com/predictron-datasets/B021_3_225.mat\n",
            "Downloading...\n",
            "Downloaded: /content/gdrive/My Drive/deeppredict/dataset/B021_3.mat\n",
            "https://s3.eu-central-1.amazonaws.com/predictron-datasets/B028_0_3005.mat\n",
            "Downloading...\n",
            "Downloaded: /content/gdrive/My Drive/deeppredict/dataset/B028_0.mat\n",
            "https://s3.eu-central-1.amazonaws.com/predictron-datasets/B028_1_3006.mat\n",
            "Downloading...\n",
            "Downloaded: /content/gdrive/My Drive/deeppredict/dataset/B028_1.mat\n",
            "https://s3.eu-central-1.amazonaws.com/predictron-datasets/B028_2_3007.mat\n",
            "Downloading...\n",
            "Downloaded: /content/gdrive/My Drive/deeppredict/dataset/B028_2.mat\n",
            "https://s3.eu-central-1.amazonaws.com/predictron-datasets/B028_3_3008.mat\n",
            "Downloading...\n",
            "Downloaded: /content/gdrive/My Drive/deeppredict/dataset/B028_3.mat\n",
            "https://s3.eu-central-1.amazonaws.com/predictron-datasets/IR007_0_105.mat\n",
            "Downloading...\n",
            "Downloaded: /content/gdrive/My Drive/deeppredict/dataset/IR007_0.mat\n",
            "https://s3.eu-central-1.amazonaws.com/predictron-datasets/IR007_1_106.mat\n",
            "Downloading...\n",
            "Downloaded: /content/gdrive/My Drive/deeppredict/dataset/IR007_1.mat\n",
            "https://s3.eu-central-1.amazonaws.com/predictron-datasets/IR007_2_107.mat\n",
            "Downloading...\n",
            "Downloaded: /content/gdrive/My Drive/deeppredict/dataset/IR007_2.mat\n",
            "https://s3.eu-central-1.amazonaws.com/predictron-datasets/IR007_3_108.mat\n",
            "Downloading...\n",
            "Downloaded: /content/gdrive/My Drive/deeppredict/dataset/IR007_3.mat\n",
            "https://s3.eu-central-1.amazonaws.com/predictron-datasets/IR014_0_169.mat\n",
            "Downloading...\n",
            "Downloaded: /content/gdrive/My Drive/deeppredict/dataset/IR014_0.mat\n",
            "https://s3.eu-central-1.amazonaws.com/predictron-datasets/IR014_1_170.mat\n",
            "Downloading...\n",
            "Downloaded: /content/gdrive/My Drive/deeppredict/dataset/IR014_1.mat\n",
            "https://s3.eu-central-1.amazonaws.com/predictron-datasets/IR014_2_171.mat\n",
            "Downloading...\n",
            "Downloaded: /content/gdrive/My Drive/deeppredict/dataset/IR014_2.mat\n",
            "https://s3.eu-central-1.amazonaws.com/predictron-datasets/IR014_3_172.mat\n",
            "Downloading...\n",
            "Downloaded: /content/gdrive/My Drive/deeppredict/dataset/IR014_3.mat\n",
            "https://s3.eu-central-1.amazonaws.com/predictron-datasets/IR021_0_209.mat\n",
            "Downloading...\n",
            "Downloaded: /content/gdrive/My Drive/deeppredict/dataset/IR021_0.mat\n",
            "https://s3.eu-central-1.amazonaws.com/predictron-datasets/IR021_1_210.mat\n",
            "Downloading...\n",
            "Downloaded: /content/gdrive/My Drive/deeppredict/dataset/IR021_1.mat\n",
            "https://s3.eu-central-1.amazonaws.com/predictron-datasets/IR021_2_211.mat\n",
            "Downloading...\n",
            "Downloaded: /content/gdrive/My Drive/deeppredict/dataset/IR021_2.mat\n",
            "https://s3.eu-central-1.amazonaws.com/predictron-datasets/IR021_3_212.mat\n",
            "Downloading...\n",
            "Downloaded: /content/gdrive/My Drive/deeppredict/dataset/IR021_3.mat\n",
            "https://s3.eu-central-1.amazonaws.com/predictron-datasets/IR028_0_3001.mat\n",
            "Downloading...\n",
            "Downloaded: /content/gdrive/My Drive/deeppredict/dataset/IR028_0.mat\n",
            "https://s3.eu-central-1.amazonaws.com/predictron-datasets/IR028_1_3002.mat\n",
            "Downloading...\n",
            "Downloaded: /content/gdrive/My Drive/deeppredict/dataset/IR028_1.mat\n",
            "https://s3.eu-central-1.amazonaws.com/predictron-datasets/IR028_2_3003.mat\n",
            "Downloading...\n",
            "Downloaded: /content/gdrive/My Drive/deeppredict/dataset/IR028_2.mat\n",
            "https://s3.eu-central-1.amazonaws.com/predictron-datasets/IR028_3_3004.mat\n",
            "Downloading...\n",
            "Downloaded: /content/gdrive/My Drive/deeppredict/dataset/IR028_3.mat\n",
            "https://s3.eu-central-1.amazonaws.com/predictron-datasets/Normal_0_97.mat\n",
            "Downloading...\n",
            "Downloaded: /content/gdrive/My Drive/deeppredict/dataset/Normal_0.mat\n",
            "https://s3.eu-central-1.amazonaws.com/predictron-datasets/Normal_1_98.mat\n",
            "Downloading...\n",
            "Downloaded: /content/gdrive/My Drive/deeppredict/dataset/Normal_1.mat\n",
            "https://s3.eu-central-1.amazonaws.com/predictron-datasets/Normal_2_99.mat\n",
            "Downloading...\n",
            "Downloaded: /content/gdrive/My Drive/deeppredict/dataset/Normal_2.mat\n",
            "https://s3.eu-central-1.amazonaws.com/predictron-datasets/Normal_3_100.mat\n",
            "Downloading...\n",
            "Downloaded: /content/gdrive/My Drive/deeppredict/dataset/Normal_3.mat\n",
            "https://s3.eu-central-1.amazonaws.com/predictron-datasets/OR007@12_156.mat\n",
            "Downloading...\n",
            "Downloaded: /content/gdrive/My Drive/deeppredict/dataset/OR007@12_156.mat\n",
            "https://s3.eu-central-1.amazonaws.com/predictron-datasets/OR007@12_158.mat\n",
            "Downloading...\n",
            "Downloaded: /content/gdrive/My Drive/deeppredict/dataset/OR007@12_158.mat\n",
            "https://s3.eu-central-1.amazonaws.com/predictron-datasets/OR007@12_159.mat\n",
            "Downloading...\n",
            "Downloaded: /content/gdrive/My Drive/deeppredict/dataset/OR007@12_159.mat\n",
            "https://s3.eu-central-1.amazonaws.com/predictron-datasets/OR007@12_160.mat\n",
            "Downloading...\n",
            "Downloaded: /content/gdrive/My Drive/deeppredict/dataset/OR007@12_160.mat\n",
            "https://s3.eu-central-1.amazonaws.com/predictron-datasets/OR007@3_144.mat\n",
            "Downloading...\n",
            "Downloaded: /content/gdrive/My Drive/deeppredict/dataset/OR007@3_144.mat\n",
            "https://s3.eu-central-1.amazonaws.com/predictron-datasets/OR007@3_145.mat\n",
            "Downloading...\n",
            "Downloaded: /content/gdrive/My Drive/deeppredict/dataset/OR007@3_145.mat\n",
            "https://s3.eu-central-1.amazonaws.com/predictron-datasets/OR007@3_146.mat\n",
            "Downloading...\n",
            "Downloaded: /content/gdrive/My Drive/deeppredict/dataset/OR007@3_146.mat\n",
            "https://s3.eu-central-1.amazonaws.com/predictron-datasets/OR007@3_147.mat\n",
            "Downloading...\n",
            "Downloaded: /content/gdrive/My Drive/deeppredict/dataset/OR007@3_147.mat\n",
            "https://s3.eu-central-1.amazonaws.com/predictron-datasets/OR007@6_130.mat\n",
            "Downloading...\n",
            "Downloaded: /content/gdrive/My Drive/deeppredict/dataset/OR007@6_130.mat\n",
            "https://s3.eu-central-1.amazonaws.com/predictron-datasets/OR007@6_131.mat\n",
            "Downloading...\n",
            "Downloaded: /content/gdrive/My Drive/deeppredict/dataset/OR007@6_131.mat\n",
            "https://s3.eu-central-1.amazonaws.com/predictron-datasets/OR007@6_132.mat\n",
            "Downloading...\n",
            "Downloaded: /content/gdrive/My Drive/deeppredict/dataset/OR007@6_132.mat\n",
            "https://s3.eu-central-1.amazonaws.com/predictron-datasets/OR007@6_133.mat\n",
            "Downloading...\n",
            "Downloaded: /content/gdrive/My Drive/deeppredict/dataset/OR007@6_133.mat\n",
            "https://s3.eu-central-1.amazonaws.com/predictron-datasets/OR014@6_197.mat\n",
            "Downloading...\n",
            "Downloaded: /content/gdrive/My Drive/deeppredict/dataset/OR014@6_197.mat\n",
            "https://s3.eu-central-1.amazonaws.com/predictron-datasets/OR014@6_198.mat\n",
            "Downloading...\n",
            "Downloaded: /content/gdrive/My Drive/deeppredict/dataset/OR014@6_198.mat\n",
            "https://s3.eu-central-1.amazonaws.com/predictron-datasets/OR014@6_199.mat\n",
            "Downloading...\n",
            "Downloaded: /content/gdrive/My Drive/deeppredict/dataset/OR014@6_199.mat\n",
            "https://s3.eu-central-1.amazonaws.com/predictron-datasets/OR014@6_200.mat\n",
            "Downloading...\n",
            "Downloaded: /content/gdrive/My Drive/deeppredict/dataset/OR014@6_200.mat\n",
            "https://s3.eu-central-1.amazonaws.com/predictron-datasets/OR021@12_258.mat\n",
            "Downloading...\n",
            "Downloaded: /content/gdrive/My Drive/deeppredict/dataset/OR021@12_258.mat\n",
            "https://s3.eu-central-1.amazonaws.com/predictron-datasets/OR021@12_259.mat\n",
            "Downloading...\n",
            "Downloaded: /content/gdrive/My Drive/deeppredict/dataset/OR021@12_259.mat\n",
            "https://s3.eu-central-1.amazonaws.com/predictron-datasets/OR021@12_260.mat\n",
            "Downloading...\n",
            "Downloaded: /content/gdrive/My Drive/deeppredict/dataset/OR021@12_260.mat\n",
            "https://s3.eu-central-1.amazonaws.com/predictron-datasets/OR021@12_261.mat\n",
            "Downloading...\n",
            "Downloaded: /content/gdrive/My Drive/deeppredict/dataset/OR021@12_261.mat\n",
            "https://s3.eu-central-1.amazonaws.com/predictron-datasets/OR021@3_246.mat\n",
            "Downloading...\n",
            "Downloaded: /content/gdrive/My Drive/deeppredict/dataset/OR021@3_246.mat\n",
            "https://s3.eu-central-1.amazonaws.com/predictron-datasets/OR021@3_247.mat\n",
            "Downloading...\n",
            "Downloaded: /content/gdrive/My Drive/deeppredict/dataset/OR021@3_247.mat\n",
            "https://s3.eu-central-1.amazonaws.com/predictron-datasets/OR021@3_248.mat\n",
            "Downloading...\n",
            "Downloaded: /content/gdrive/My Drive/deeppredict/dataset/OR021@3_248.mat\n",
            "https://s3.eu-central-1.amazonaws.com/predictron-datasets/OR021@3_249.mat\n",
            "Downloading...\n",
            "Downloaded: /content/gdrive/My Drive/deeppredict/dataset/OR021@3_249.mat\n",
            "https://s3.eu-central-1.amazonaws.com/predictron-datasets/OR021@6_234.mat\n",
            "Downloading...\n",
            "Downloaded: /content/gdrive/My Drive/deeppredict/dataset/OR021@6_234.mat\n",
            "https://s3.eu-central-1.amazonaws.com/predictron-datasets/OR021@6_235.mat\n",
            "Downloading...\n",
            "Downloaded: /content/gdrive/My Drive/deeppredict/dataset/OR021@6_235.mat\n",
            "https://s3.eu-central-1.amazonaws.com/predictron-datasets/OR021@6_236.mat\n",
            "Downloading...\n",
            "Downloaded: /content/gdrive/My Drive/deeppredict/dataset/OR021@6_236.mat\n",
            "https://s3.eu-central-1.amazonaws.com/predictron-datasets/OR021@6_237.mat\n",
            "Downloading...\n",
            "Downloaded: /content/gdrive/My Drive/deeppredict/dataset/OR021@6_237.mat\n"
          ],
          "name": "stdout"
        }
      ]
    },
    {
      "metadata": {
        "id": "jdVGPpFsjaQL",
        "colab_type": "text"
      },
      "cell_type": "markdown",
      "source": [
        "If it all looks good, then now we have all the raw data we need to continue to the next Notebook."
      ]
    },
    {
      "metadata": {
        "id": "Nzps23Rqjiju",
        "colab_type": "code",
        "colab": {}
      },
      "cell_type": "code",
      "source": [
        ""
      ],
      "execution_count": 0,
      "outputs": []
    }
  ]
}